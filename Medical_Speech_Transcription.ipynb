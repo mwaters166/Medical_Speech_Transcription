{
 "cells": [
  {
   "cell_type": "code",
   "execution_count": null,
   "metadata": {},
   "outputs": [],
   "source": [
    "#From: https://www.kaggle.com/paultimothymooney/medical-speech-transcription-and-intent\n",
    "#Original dataset: https://appen.com/datasets/audio-recording-and-transcription-for-medical-scenarios/"
   ]
  },
  {
   "cell_type": "markdown",
   "metadata": {},
   "source": [
    "* audio_clipping\tIndicates if the audio needs to be clipped\n",
    "* audio_clipping:confidence\tJudgment agreement on the previous field\n",
    "* background_noise_audible\tIndicates if the audio has background noise\n",
    "* background_noise_audible:confidence\tJudgment agreement on the previous field\n",
    "* overall_quality_of_the_audio\tQuality rating on the audio\n",
    "* quiet_speaker\tIndicates if the audio has was provided by a quiet speaker\n",
    "* quiet_speaker:confidence\tJudgment agreement on the previous field\n",
    "* speaker_id\tReference to the provider of the original recording\n",
    "* file_download\tReference URL to the downloadable audio file\n",
    "* file_name\tFilename for the audio file"
   ]
  },
  {
   "cell_type": "code",
   "execution_count": 12,
   "metadata": {},
   "outputs": [],
   "source": [
    "import pandas as pd\n",
    "from os import listdir"
   ]
  },
  {
   "cell_type": "code",
   "execution_count": 3,
   "metadata": {},
   "outputs": [],
   "source": [
    "overview_df= pd.read_csv('overview-of-recordings.csv')"
   ]
  },
  {
   "cell_type": "code",
   "execution_count": 4,
   "metadata": {},
   "outputs": [
    {
     "data": {
      "text/html": [
       "<div>\n",
       "<style scoped>\n",
       "    .dataframe tbody tr th:only-of-type {\n",
       "        vertical-align: middle;\n",
       "    }\n",
       "\n",
       "    .dataframe tbody tr th {\n",
       "        vertical-align: top;\n",
       "    }\n",
       "\n",
       "    .dataframe thead th {\n",
       "        text-align: right;\n",
       "    }\n",
       "</style>\n",
       "<table border=\"1\" class=\"dataframe\">\n",
       "  <thead>\n",
       "    <tr style=\"text-align: right;\">\n",
       "      <th></th>\n",
       "      <th>audio_clipping</th>\n",
       "      <th>audio_clipping:confidence</th>\n",
       "      <th>background_noise_audible</th>\n",
       "      <th>background_noise_audible:confidence</th>\n",
       "      <th>overall_quality_of_the_audio</th>\n",
       "      <th>quiet_speaker</th>\n",
       "      <th>quiet_speaker:confidence</th>\n",
       "      <th>speaker_id</th>\n",
       "      <th>file_download</th>\n",
       "      <th>file_name</th>\n",
       "      <th>phrase</th>\n",
       "      <th>prompt</th>\n",
       "      <th>writer_id</th>\n",
       "    </tr>\n",
       "  </thead>\n",
       "  <tbody>\n",
       "    <tr>\n",
       "      <th>0</th>\n",
       "      <td>no_clipping</td>\n",
       "      <td>1.0000</td>\n",
       "      <td>light_noise</td>\n",
       "      <td>1.0000</td>\n",
       "      <td>3.33</td>\n",
       "      <td>audible_speaker</td>\n",
       "      <td>1.0</td>\n",
       "      <td>43453425</td>\n",
       "      <td>https://ml.sandbox.cf3.us/cgi-bin/index.cgi?do...</td>\n",
       "      <td>1249120_43453425_58166571.wav</td>\n",
       "      <td>When I remember her I feel down</td>\n",
       "      <td>Emotional pain</td>\n",
       "      <td>21665495</td>\n",
       "    </tr>\n",
       "    <tr>\n",
       "      <th>1</th>\n",
       "      <td>light_clipping</td>\n",
       "      <td>0.6803</td>\n",
       "      <td>no_noise</td>\n",
       "      <td>0.6803</td>\n",
       "      <td>3.33</td>\n",
       "      <td>audible_speaker</td>\n",
       "      <td>1.0</td>\n",
       "      <td>43719934</td>\n",
       "      <td>https://ml.sandbox.cf3.us/cgi-bin/index.cgi?do...</td>\n",
       "      <td>1249120_43719934_43347848.wav</td>\n",
       "      <td>When I carry heavy things I feel like breaking...</td>\n",
       "      <td>Hair falling out</td>\n",
       "      <td>44088126</td>\n",
       "    </tr>\n",
       "    <tr>\n",
       "      <th>2</th>\n",
       "      <td>no_clipping</td>\n",
       "      <td>1.0000</td>\n",
       "      <td>no_noise</td>\n",
       "      <td>0.6655</td>\n",
       "      <td>3.33</td>\n",
       "      <td>audible_speaker</td>\n",
       "      <td>1.0</td>\n",
       "      <td>43719934</td>\n",
       "      <td>https://ml.sandbox.cf3.us/cgi-bin/index.cgi?do...</td>\n",
       "      <td>1249120_43719934_53187202.wav</td>\n",
       "      <td>there is too much pain when i move my arm</td>\n",
       "      <td>Heart hurts</td>\n",
       "      <td>44292353</td>\n",
       "    </tr>\n",
       "    <tr>\n",
       "      <th>3</th>\n",
       "      <td>no_clipping</td>\n",
       "      <td>1.0000</td>\n",
       "      <td>light_noise</td>\n",
       "      <td>1.0000</td>\n",
       "      <td>3.33</td>\n",
       "      <td>audible_speaker</td>\n",
       "      <td>1.0</td>\n",
       "      <td>31349958</td>\n",
       "      <td>https://ml.sandbox.cf3.us/cgi-bin/index.cgi?do...</td>\n",
       "      <td>1249120_31349958_55816195.wav</td>\n",
       "      <td>My son had his lip pierced and it is swollen a...</td>\n",
       "      <td>Infected wound</td>\n",
       "      <td>43755034</td>\n",
       "    </tr>\n",
       "    <tr>\n",
       "      <th>4</th>\n",
       "      <td>no_clipping</td>\n",
       "      <td>1.0000</td>\n",
       "      <td>no_noise</td>\n",
       "      <td>1.0000</td>\n",
       "      <td>4.67</td>\n",
       "      <td>audible_speaker</td>\n",
       "      <td>1.0</td>\n",
       "      <td>43719934</td>\n",
       "      <td>https://ml.sandbox.cf3.us/cgi-bin/index.cgi?do...</td>\n",
       "      <td>1249120_43719934_82524191.wav</td>\n",
       "      <td>My muscles in my lower back are aching</td>\n",
       "      <td>Infected wound</td>\n",
       "      <td>21665495</td>\n",
       "    </tr>\n",
       "  </tbody>\n",
       "</table>\n",
       "</div>"
      ],
      "text/plain": [
       "   audio_clipping  audio_clipping:confidence background_noise_audible  \\\n",
       "0     no_clipping                     1.0000              light_noise   \n",
       "1  light_clipping                     0.6803                 no_noise   \n",
       "2     no_clipping                     1.0000                 no_noise   \n",
       "3     no_clipping                     1.0000              light_noise   \n",
       "4     no_clipping                     1.0000                 no_noise   \n",
       "\n",
       "   background_noise_audible:confidence  overall_quality_of_the_audio  \\\n",
       "0                               1.0000                          3.33   \n",
       "1                               0.6803                          3.33   \n",
       "2                               0.6655                          3.33   \n",
       "3                               1.0000                          3.33   \n",
       "4                               1.0000                          4.67   \n",
       "\n",
       "     quiet_speaker  quiet_speaker:confidence  speaker_id  \\\n",
       "0  audible_speaker                       1.0    43453425   \n",
       "1  audible_speaker                       1.0    43719934   \n",
       "2  audible_speaker                       1.0    43719934   \n",
       "3  audible_speaker                       1.0    31349958   \n",
       "4  audible_speaker                       1.0    43719934   \n",
       "\n",
       "                                       file_download  \\\n",
       "0  https://ml.sandbox.cf3.us/cgi-bin/index.cgi?do...   \n",
       "1  https://ml.sandbox.cf3.us/cgi-bin/index.cgi?do...   \n",
       "2  https://ml.sandbox.cf3.us/cgi-bin/index.cgi?do...   \n",
       "3  https://ml.sandbox.cf3.us/cgi-bin/index.cgi?do...   \n",
       "4  https://ml.sandbox.cf3.us/cgi-bin/index.cgi?do...   \n",
       "\n",
       "                       file_name  \\\n",
       "0  1249120_43453425_58166571.wav   \n",
       "1  1249120_43719934_43347848.wav   \n",
       "2  1249120_43719934_53187202.wav   \n",
       "3  1249120_31349958_55816195.wav   \n",
       "4  1249120_43719934_82524191.wav   \n",
       "\n",
       "                                              phrase            prompt  \\\n",
       "0                    When I remember her I feel down    Emotional pain   \n",
       "1  When I carry heavy things I feel like breaking...  Hair falling out   \n",
       "2          there is too much pain when i move my arm       Heart hurts   \n",
       "3  My son had his lip pierced and it is swollen a...    Infected wound   \n",
       "4             My muscles in my lower back are aching    Infected wound   \n",
       "\n",
       "   writer_id  \n",
       "0   21665495  \n",
       "1   44088126  \n",
       "2   44292353  \n",
       "3   43755034  \n",
       "4   21665495  "
      ]
     },
     "execution_count": 4,
     "metadata": {},
     "output_type": "execute_result"
    }
   ],
   "source": [
    "overview_df.head()"
   ]
  },
  {
   "cell_type": "code",
   "execution_count": 28,
   "metadata": {},
   "outputs": [
    {
     "data": {
      "text/plain": [
       "audio_clipping                         0\n",
       "audio_clipping:confidence              0\n",
       "background_noise_audible               0\n",
       "background_noise_audible:confidence    0\n",
       "overall_quality_of_the_audio           0\n",
       "quiet_speaker                          0\n",
       "quiet_speaker:confidence               0\n",
       "speaker_id                             0\n",
       "file_download                          0\n",
       "file_name                              0\n",
       "phrase                                 0\n",
       "prompt                                 0\n",
       "writer_id                              0\n",
       "dtype: int64"
      ]
     },
     "execution_count": 28,
     "metadata": {},
     "output_type": "execute_result"
    }
   ],
   "source": [
    "#Check for missing values\n",
    "overview_df.isna().sum()"
   ]
  },
  {
   "cell_type": "code",
   "execution_count": 29,
   "metadata": {},
   "outputs": [
    {
     "name": "stdout",
     "output_type": "stream",
     "text": [
      "<class 'pandas.core.frame.DataFrame'>\n",
      "RangeIndex: 6661 entries, 0 to 6660\n",
      "Data columns (total 13 columns):\n",
      " #   Column                               Non-Null Count  Dtype  \n",
      "---  ------                               --------------  -----  \n",
      " 0   audio_clipping                       6661 non-null   object \n",
      " 1   audio_clipping:confidence            6661 non-null   float64\n",
      " 2   background_noise_audible             6661 non-null   object \n",
      " 3   background_noise_audible:confidence  6661 non-null   float64\n",
      " 4   overall_quality_of_the_audio         6661 non-null   float64\n",
      " 5   quiet_speaker                        6661 non-null   object \n",
      " 6   quiet_speaker:confidence             6661 non-null   float64\n",
      " 7   speaker_id                           6661 non-null   int64  \n",
      " 8   file_download                        6661 non-null   object \n",
      " 9   file_name                            6661 non-null   object \n",
      " 10  phrase                               6661 non-null   object \n",
      " 11  prompt                               6661 non-null   object \n",
      " 12  writer_id                            6661 non-null   int64  \n",
      "dtypes: float64(4), int64(2), object(7)\n",
      "memory usage: 676.6+ KB\n"
     ]
    }
   ],
   "source": [
    "overview_df.info()"
   ]
  },
  {
   "cell_type": "code",
   "execution_count": 6,
   "metadata": {},
   "outputs": [
    {
     "data": {
      "text/plain": [
       "Index(['audio_clipping', 'audio_clipping:confidence',\n",
       "       'background_noise_audible', 'background_noise_audible:confidence',\n",
       "       'overall_quality_of_the_audio', 'quiet_speaker',\n",
       "       'quiet_speaker:confidence', 'speaker_id', 'file_download', 'file_name',\n",
       "       'phrase', 'prompt', 'writer_id'],\n",
       "      dtype='object')"
      ]
     },
     "execution_count": 6,
     "metadata": {},
     "output_type": "execute_result"
    }
   ],
   "source": [
    "overview_df.columns"
   ]
  },
  {
   "cell_type": "code",
   "execution_count": 9,
   "metadata": {},
   "outputs": [
    {
     "data": {
      "text/plain": [
       "6661"
      ]
     },
     "execution_count": 9,
     "metadata": {},
     "output_type": "execute_result"
    }
   ],
   "source": [
    "len(overview_df.file_name.unique())"
   ]
  },
  {
   "cell_type": "code",
   "execution_count": 11,
   "metadata": {},
   "outputs": [
    {
     "data": {
      "text/plain": [
       "array(['1249120_43453425_58166571.wav', '1249120_43719934_43347848.wav',\n",
       "       '1249120_43719934_53187202.wav', '1249120_31349958_55816195.wav',\n",
       "       '1249120_43719934_82524191.wav'], dtype=object)"
      ]
     },
     "execution_count": 11,
     "metadata": {},
     "output_type": "execute_result"
    }
   ],
   "source": [
    "file_names=overview_df.file_name.unique()\n",
    "file_names[:5]"
   ]
  },
  {
   "cell_type": "code",
   "execution_count": 17,
   "metadata": {},
   "outputs": [
    {
     "data": {
      "text/plain": [
       "381"
      ]
     },
     "execution_count": 17,
     "metadata": {},
     "output_type": "execute_result"
    }
   ],
   "source": [
    "train_file_names=listdir('train')\n",
    "len(train_file_names)"
   ]
  },
  {
   "cell_type": "code",
   "execution_count": 21,
   "metadata": {},
   "outputs": [
    {
     "data": {
      "text/plain": [
       "381"
      ]
     },
     "execution_count": 21,
     "metadata": {},
     "output_type": "execute_result"
    }
   ],
   "source": [
    "#Check that train files are in list\n",
    "len(set(train_file_names).intersection(set(file_names)))"
   ]
  },
  {
   "cell_type": "code",
   "execution_count": 22,
   "metadata": {},
   "outputs": [],
   "source": [
    "train_overview_df=overview_df[overview_df['file_name'].isin(train_file_names)]"
   ]
  },
  {
   "cell_type": "code",
   "execution_count": 87,
   "metadata": {},
   "outputs": [
    {
     "data": {
      "text/html": [
       "<div>\n",
       "<style scoped>\n",
       "    .dataframe tbody tr th:only-of-type {\n",
       "        vertical-align: middle;\n",
       "    }\n",
       "\n",
       "    .dataframe tbody tr th {\n",
       "        vertical-align: top;\n",
       "    }\n",
       "\n",
       "    .dataframe thead th {\n",
       "        text-align: right;\n",
       "    }\n",
       "</style>\n",
       "<table border=\"1\" class=\"dataframe\">\n",
       "  <thead>\n",
       "    <tr style=\"text-align: right;\">\n",
       "      <th></th>\n",
       "      <th>audio_clipping</th>\n",
       "      <th>audio_clipping:confidence</th>\n",
       "      <th>background_noise_audible</th>\n",
       "      <th>background_noise_audible:confidence</th>\n",
       "      <th>overall_quality_of_the_audio</th>\n",
       "      <th>quiet_speaker</th>\n",
       "      <th>quiet_speaker:confidence</th>\n",
       "      <th>speaker_id</th>\n",
       "      <th>file_download</th>\n",
       "      <th>file_name</th>\n",
       "      <th>phrase</th>\n",
       "      <th>prompt</th>\n",
       "      <th>writer_id</th>\n",
       "    </tr>\n",
       "  </thead>\n",
       "  <tbody>\n",
       "    <tr>\n",
       "      <th>10</th>\n",
       "      <td>no_clipping</td>\n",
       "      <td>1.0000</td>\n",
       "      <td>light_noise</td>\n",
       "      <td>1.0000</td>\n",
       "      <td>3.33</td>\n",
       "      <td>audible_speaker</td>\n",
       "      <td>1.0000</td>\n",
       "      <td>44197979</td>\n",
       "      <td>https://ml.sandbox.cf3.us/cgi-bin/index.cgi?do...</td>\n",
       "      <td>1249120_44197979_23991689.wav</td>\n",
       "      <td>I have a sharp pain in my lower stomach.</td>\n",
       "      <td>Stomach ache</td>\n",
       "      <td>14026697</td>\n",
       "    </tr>\n",
       "    <tr>\n",
       "      <th>13</th>\n",
       "      <td>no_clipping</td>\n",
       "      <td>0.6609</td>\n",
       "      <td>light_noise</td>\n",
       "      <td>0.3391</td>\n",
       "      <td>3.00</td>\n",
       "      <td>audible_speaker</td>\n",
       "      <td>0.6735</td>\n",
       "      <td>44174241</td>\n",
       "      <td>https://ml.sandbox.cf3.us/cgi-bin/index.cgi?do...</td>\n",
       "      <td>1249120_44174241_12756709.wav</td>\n",
       "      <td>Don't cry</td>\n",
       "      <td>Joint pain</td>\n",
       "      <td>44118742</td>\n",
       "    </tr>\n",
       "    <tr>\n",
       "      <th>91</th>\n",
       "      <td>no_clipping</td>\n",
       "      <td>1.0000</td>\n",
       "      <td>light_noise</td>\n",
       "      <td>1.0000</td>\n",
       "      <td>3.33</td>\n",
       "      <td>audible_speaker</td>\n",
       "      <td>1.0000</td>\n",
       "      <td>44197979</td>\n",
       "      <td>https://ml.sandbox.cf3.us/cgi-bin/index.cgi?do...</td>\n",
       "      <td>1249120_44197979_109954671.wav</td>\n",
       "      <td>When I get out of bed in the morning my body f...</td>\n",
       "      <td>Body feels weak</td>\n",
       "      <td>1883056</td>\n",
       "    </tr>\n",
       "    <tr>\n",
       "      <th>125</th>\n",
       "      <td>no_clipping</td>\n",
       "      <td>1.0000</td>\n",
       "      <td>light_noise</td>\n",
       "      <td>0.6429</td>\n",
       "      <td>3.33</td>\n",
       "      <td>audible_speaker</td>\n",
       "      <td>1.0000</td>\n",
       "      <td>44246595</td>\n",
       "      <td>https://ml.sandbox.cf3.us/cgi-bin/index.cgi?do...</td>\n",
       "      <td>1249120_44246595_34981278.wav</td>\n",
       "      <td>i have a great pain in my thorax from heart in...</td>\n",
       "      <td>Heart hurts</td>\n",
       "      <td>44066678</td>\n",
       "    </tr>\n",
       "    <tr>\n",
       "      <th>141</th>\n",
       "      <td>no_clipping</td>\n",
       "      <td>1.0000</td>\n",
       "      <td>light_noise</td>\n",
       "      <td>1.0000</td>\n",
       "      <td>4.00</td>\n",
       "      <td>audible_speaker</td>\n",
       "      <td>1.0000</td>\n",
       "      <td>44176037</td>\n",
       "      <td>https://ml.sandbox.cf3.us/cgi-bin/index.cgi?do...</td>\n",
       "      <td>1249120_44176037_93714115.wav</td>\n",
       "      <td>I have a hard muscle pain since i went to the gym</td>\n",
       "      <td>Muscle pain</td>\n",
       "      <td>44150058</td>\n",
       "    </tr>\n",
       "  </tbody>\n",
       "</table>\n",
       "</div>"
      ],
      "text/plain": [
       "    audio_clipping  audio_clipping:confidence background_noise_audible  \\\n",
       "10     no_clipping                     1.0000              light_noise   \n",
       "13     no_clipping                     0.6609              light_noise   \n",
       "91     no_clipping                     1.0000              light_noise   \n",
       "125    no_clipping                     1.0000              light_noise   \n",
       "141    no_clipping                     1.0000              light_noise   \n",
       "\n",
       "     background_noise_audible:confidence  overall_quality_of_the_audio  \\\n",
       "10                                1.0000                          3.33   \n",
       "13                                0.3391                          3.00   \n",
       "91                                1.0000                          3.33   \n",
       "125                               0.6429                          3.33   \n",
       "141                               1.0000                          4.00   \n",
       "\n",
       "       quiet_speaker  quiet_speaker:confidence  speaker_id  \\\n",
       "10   audible_speaker                    1.0000    44197979   \n",
       "13   audible_speaker                    0.6735    44174241   \n",
       "91   audible_speaker                    1.0000    44197979   \n",
       "125  audible_speaker                    1.0000    44246595   \n",
       "141  audible_speaker                    1.0000    44176037   \n",
       "\n",
       "                                         file_download  \\\n",
       "10   https://ml.sandbox.cf3.us/cgi-bin/index.cgi?do...   \n",
       "13   https://ml.sandbox.cf3.us/cgi-bin/index.cgi?do...   \n",
       "91   https://ml.sandbox.cf3.us/cgi-bin/index.cgi?do...   \n",
       "125  https://ml.sandbox.cf3.us/cgi-bin/index.cgi?do...   \n",
       "141  https://ml.sandbox.cf3.us/cgi-bin/index.cgi?do...   \n",
       "\n",
       "                          file_name  \\\n",
       "10    1249120_44197979_23991689.wav   \n",
       "13    1249120_44174241_12756709.wav   \n",
       "91   1249120_44197979_109954671.wav   \n",
       "125   1249120_44246595_34981278.wav   \n",
       "141   1249120_44176037_93714115.wav   \n",
       "\n",
       "                                                phrase           prompt  \\\n",
       "10            I have a sharp pain in my lower stomach.     Stomach ache   \n",
       "13                                           Don't cry       Joint pain   \n",
       "91   When I get out of bed in the morning my body f...  Body feels weak   \n",
       "125  i have a great pain in my thorax from heart in...      Heart hurts   \n",
       "141  I have a hard muscle pain since i went to the gym      Muscle pain   \n",
       "\n",
       "     writer_id  \n",
       "10    14026697  \n",
       "13    44118742  \n",
       "91     1883056  \n",
       "125   44066678  \n",
       "141   44150058  "
      ]
     },
     "execution_count": 87,
     "metadata": {},
     "output_type": "execute_result"
    }
   ],
   "source": [
    "train_overview_df.head()"
   ]
  },
  {
   "cell_type": "code",
   "execution_count": 144,
   "metadata": {},
   "outputs": [
    {
     "data": {
      "text/plain": [
       "count    6661.000000\n",
       "mean        3.678268\n",
       "std         0.378536\n",
       "min         3.000000\n",
       "25%         3.330000\n",
       "50%         3.670000\n",
       "75%         4.000000\n",
       "max         5.000000\n",
       "Name: overall_quality_of_the_audio, dtype: float64"
      ]
     },
     "execution_count": 144,
     "metadata": {},
     "output_type": "execute_result"
    }
   ],
   "source": [
    "overview_df.overall_quality_of_the_audio.describe()"
   ]
  },
  {
   "cell_type": "code",
   "execution_count": 88,
   "metadata": {},
   "outputs": [
    {
     "data": {
      "text/plain": [
       "array(['audible_speaker'], dtype=object)"
      ]
     },
     "execution_count": 88,
     "metadata": {},
     "output_type": "execute_result"
    }
   ],
   "source": [
    "train_overview_df.quiet_speaker.unique()"
   ]
  },
  {
   "cell_type": "code",
   "execution_count": 23,
   "metadata": {},
   "outputs": [
    {
     "name": "stdout",
     "output_type": "stream",
     "text": [
      "<class 'pandas.core.frame.DataFrame'>\n",
      "Int64Index: 381 entries, 10 to 6593\n",
      "Data columns (total 13 columns):\n",
      " #   Column                               Non-Null Count  Dtype  \n",
      "---  ------                               --------------  -----  \n",
      " 0   audio_clipping                       381 non-null    object \n",
      " 1   audio_clipping:confidence            381 non-null    float64\n",
      " 2   background_noise_audible             381 non-null    object \n",
      " 3   background_noise_audible:confidence  381 non-null    float64\n",
      " 4   overall_quality_of_the_audio         381 non-null    float64\n",
      " 5   quiet_speaker                        381 non-null    object \n",
      " 6   quiet_speaker:confidence             381 non-null    float64\n",
      " 7   speaker_id                           381 non-null    int64  \n",
      " 8   file_download                        381 non-null    object \n",
      " 9   file_name                            381 non-null    object \n",
      " 10  phrase                               381 non-null    object \n",
      " 11  prompt                               381 non-null    object \n",
      " 12  writer_id                            381 non-null    int64  \n",
      "dtypes: float64(4), int64(2), object(7)\n",
      "memory usage: 41.7+ KB\n"
     ]
    }
   ],
   "source": [
    "train_overview_df.info()"
   ]
  },
  {
   "cell_type": "code",
   "execution_count": 25,
   "metadata": {},
   "outputs": [
    {
     "data": {
      "text/plain": [
       "array(['Stomach ache', 'Joint pain', 'Body feels weak', 'Heart hurts',\n",
       "       'Muscle pain', 'Shoulder pain', 'Ear ache', 'Open wound',\n",
       "       'Blurry vision', 'Hard to breath', 'Internal pain', 'Acne',\n",
       "       'Infected wound', 'Cough', 'Emotional pain', 'Skin issue',\n",
       "       'Knee pain', 'Back pain', 'Head ache', 'Feeling dizzy',\n",
       "       'Feeling cold', 'Neck pain', 'Hair falling out',\n",
       "       'Injury from sports', 'Foot ache'], dtype=object)"
      ]
     },
     "execution_count": 25,
     "metadata": {},
     "output_type": "execute_result"
    }
   ],
   "source": [
    "train_overview_df.prompt.unique()"
   ]
  },
  {
   "cell_type": "code",
   "execution_count": 26,
   "metadata": {},
   "outputs": [
    {
     "data": {
      "text/plain": [
       "25"
      ]
     },
     "execution_count": 26,
     "metadata": {},
     "output_type": "execute_result"
    }
   ],
   "source": [
    "len(train_overview_df.prompt.unique())"
   ]
  },
  {
   "cell_type": "code",
   "execution_count": 30,
   "metadata": {},
   "outputs": [
    {
     "data": {
      "text/plain": [
       "25"
      ]
     },
     "execution_count": 30,
     "metadata": {},
     "output_type": "execute_result"
    }
   ],
   "source": [
    "len(overview_df.prompt.unique())"
   ]
  },
  {
   "cell_type": "code",
   "execution_count": 38,
   "metadata": {},
   "outputs": [
    {
     "data": {
      "text/plain": [
       "<AxesSubplot:>"
      ]
     },
     "execution_count": 38,
     "metadata": {},
     "output_type": "execute_result"
    },
    {
     "data": {
      "image/png": "[encoded data removed]",
      "text/plain": [
       "<Figure size 432x288 with 1 Axes>"
      ]
     },
     "metadata": {
      "needs_background": "light"
     },
     "output_type": "display_data"
    }
   ],
   "source": [
    "#Training data distribution\n",
    "train_overview_df.prompt.value_counts('normalize').plot.barh()"
   ]
  },
  {
   "cell_type": "code",
   "execution_count": 39,
   "metadata": {},
   "outputs": [
    {
     "data": {
      "text/plain": [
       "<AxesSubplot:>"
      ]
     },
     "execution_count": 39,
     "metadata": {},
     "output_type": "execute_result"
    },
    {
     "data": {
      "image/png": "[encoded data removed]",
      "text/plain": [
       "<Figure size 432x288 with 1 Axes>"
      ]
     },
     "metadata": {
      "needs_background": "light"
     },
     "output_type": "display_data"
    }
   ],
   "source": [
    "#Entire dataset distribution\n",
    "overview_df.prompt.value_counts('normalize').plot.barh()"
   ]
  },
  {
   "cell_type": "code",
   "execution_count": null,
   "metadata": {},
   "outputs": [],
   "source": [
    "### Verify Audio"
   ]
  },
  {
   "cell_type": "code",
   "execution_count": null,
   "metadata": {},
   "outputs": [],
   "source": []
  },
  {
   "cell_type": "markdown",
   "metadata": {},
   "source": [
    "### Speech to Text"
   ]
  },
  {
   "cell_type": "code",
   "execution_count": 44,
   "metadata": {},
   "outputs": [],
   "source": [
    "#Protocol Source: https://realpython.com/python-speech-recognition/\n",
    "#Package Source: https://pypi.org/project/SpeechRecognition/\n",
    "#!pip install SpeechRecognition"
   ]
  },
  {
   "cell_type": "code",
   "execution_count": 45,
   "metadata": {},
   "outputs": [
    {
     "data": {
      "text/plain": [
       "'3.8.1'"
      ]
     },
     "execution_count": 45,
     "metadata": {},
     "output_type": "execute_result"
    }
   ],
   "source": [
    "import speech_recognition as sr\n",
    "sr.__version__"
   ]
  },
  {
   "cell_type": "code",
   "execution_count": 63,
   "metadata": {},
   "outputs": [
    {
     "data": {
      "text/plain": [
       "['1249120_44176037_58635902.wav',\n",
       " '1249120_44176037_96532055.wav',\n",
       " '1249120_44220382_41016711.wav',\n",
       " '1249120_44188922_16615356.wav',\n",
       " '1249120_44246595_60938320.wav']"
      ]
     },
     "execution_count": 63,
     "metadata": {},
     "output_type": "execute_result"
    }
   ],
   "source": [
    "train_file_names[:5]"
   ]
  },
  {
   "cell_type": "code",
   "execution_count": 67,
   "metadata": {},
   "outputs": [
    {
     "data": {
      "text/plain": [
       "['1249120_44197979_23991689.wav',\n",
       " '1249120_44174241_12756709.wav',\n",
       " '1249120_44197979_109954671.wav',\n",
       " '1249120_44246595_34981278.wav',\n",
       " '1249120_44176037_93714115.wav']"
      ]
     },
     "execution_count": 67,
     "metadata": {},
     "output_type": "execute_result"
    }
   ],
   "source": [
    "list(train_overview_df.file_name.values[:5])"
   ]
  },
  {
   "cell_type": "code",
   "execution_count": 137,
   "metadata": {},
   "outputs": [],
   "source": [
    "#Convert speech to text\n",
    "def speech_to_text(wav_file_names):\n",
    "    speech_text=[]\n",
    "    for wav_file in wav_file_names[:5]:\n",
    "        r = sr.Recognizer()\n",
    "        file = sr.AudioFile('train/'+wav_file)\n",
    "        with file as source:\n",
    "            audio = r.record(source)\n",
    "        try:\n",
    "            speech_text.append(r.recognize_google(audio, language='en-IN', show_all=False))\n",
    "        except:\n",
    "            speech_text.append('')\n",
    "    return speech_text"
   ]
  },
  {
   "cell_type": "code",
   "execution_count": 138,
   "metadata": {},
   "outputs": [],
   "source": [
    "speech_text=speech_to_text(wav_file_names=train_overview_df.file_name)"
   ]
  },
  {
   "cell_type": "code",
   "execution_count": 139,
   "metadata": {},
   "outputs": [
    {
     "data": {
      "text/plain": [
       "['I have a sharp pain in my nose',\n",
       " '',\n",
       " 'when I get out of bed in the morning my body feels very weak',\n",
       " 'Great Pyrenees thorax from heart injury',\n",
       " 'I have a hard muscle pain since I went to the gym']"
      ]
     },
     "execution_count": 139,
     "metadata": {},
     "output_type": "execute_result"
    }
   ],
   "source": [
    "speech_text"
   ]
  },
  {
   "cell_type": "code",
   "execution_count": 140,
   "metadata": {},
   "outputs": [
    {
     "data": {
      "text/plain": [
       "array(['I have a sharp pain in my lower stomach.', \"Don't cry\",\n",
       "       'When I get out of bed in the morning my body feels very weak.',\n",
       "       'i have a great pain in my thorax from heart injury',\n",
       "       'I have a hard muscle pain since i went to the gym'], dtype=object)"
      ]
     },
     "execution_count": 140,
     "metadata": {},
     "output_type": "execute_result"
    }
   ],
   "source": [
    "train_overview_df.phrase[:5].values"
   ]
  },
  {
   "cell_type": "code",
   "execution_count": 51,
   "metadata": {},
   "outputs": [
    {
     "data": {
      "text/plain": [
       "10              I have a sharp pain in my lower stomach.\n",
       "13                                             Don't cry\n",
       "91     When I get out of bed in the morning my body f...\n",
       "125    i have a great pain in my thorax from heart in...\n",
       "141    I have a hard muscle pain since i went to the gym\n",
       "Name: phrase, dtype: object"
      ]
     },
     "execution_count": 51,
     "metadata": {},
     "output_type": "execute_result"
    }
   ],
   "source": [
    "train_overview_df.phrase[:5]"
   ]
  },
  {
   "cell_type": "code",
   "execution_count": 52,
   "metadata": {},
   "outputs": [
    {
     "data": {
      "text/plain": [
       "['1249120_44176037_58635902.wav',\n",
       " '1249120_44176037_96532055.wav',\n",
       " '1249120_44220382_41016711.wav',\n",
       " '1249120_44188922_16615356.wav',\n",
       " '1249120_44246595_60938320.wav']"
      ]
     },
     "execution_count": 52,
     "metadata": {},
     "output_type": "execute_result"
    }
   ],
   "source": [
    "wav_file_names[:5]"
   ]
  },
  {
   "cell_type": "code",
   "execution_count": null,
   "metadata": {},
   "outputs": [],
   "source": [
    "train_overview_df"
   ]
  }
 ],
 "metadata": {
  "kernelspec": {
   "display_name": "Python 3",
   "language": "python",
   "name": "python3"
  },
  "language_info": {
   "codemirror_mode": {
    "name": "ipython",
    "version": 3
   },
   "file_extension": ".py",
   "mimetype": "text/x-python",
   "name": "python",
   "nbconvert_exporter": "python",
   "pygments_lexer": "ipython3",
   "version": "3.7.6"
  }
 },
 "nbformat": 4,
 "nbformat_minor": 4
}
